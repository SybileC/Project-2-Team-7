{
 "cells": [
  {
   "cell_type": "code",
   "execution_count": 1,
   "metadata": {},
   "outputs": [],
   "source": [
    "import pandas as pd\n",
    "import os as csv\n",
    "import numpy as np"
   ]
  },
  {
   "cell_type": "code",
   "execution_count": 2,
   "metadata": {},
   "outputs": [
    {
     "output_type": "execute_result",
     "data": {
      "text/plain": "   sofifa_id                                         player_url  \\\n0     158023  https://sofifa.com/player/158023/lionel-messi/...   \n1      20801  https://sofifa.com/player/20801/c-ronaldo-dos-...   \n2     190871  https://sofifa.com/player/190871/neymar-da-sil...   \n3     200389  https://sofifa.com/player/200389/jan-oblak/20/...   \n4     183277  https://sofifa.com/player/183277/eden-hazard/2...   \n\n          short_name                            long_name  age         dob  \\\n0           L. Messi       Lionel Andrés Messi Cuccittini   32  1987-06-24   \n1  Cristiano Ronaldo  Cristiano Ronaldo dos Santos Aveiro   34  1985-02-05   \n2          Neymar Jr        Neymar da Silva Santos Junior   27  1992-02-05   \n3           J. Oblak                            Jan Oblak   26  1993-01-07   \n4          E. Hazard                          Eden Hazard   28  1991-01-07   \n\n   height_cm  weight_kg nationality                 club  ...   lwb   ldm  \\\n0        170         72   Argentina         FC Barcelona  ...  68+2  66+2   \n1        187         83    Portugal             Juventus  ...  65+3  61+3   \n2        175         68      Brazil  Paris Saint-Germain  ...  66+3  61+3   \n3        188         87    Slovenia      Atlético Madrid  ...   NaN   NaN   \n4        175         74     Belgium          Real Madrid  ...  66+3  63+3   \n\n    cdm   rdm   rwb    lb   lcb    cb   rcb    rb  \n0  66+2  66+2  68+2  63+2  52+2  52+2  52+2  63+2  \n1  61+3  61+3  65+3  61+3  53+3  53+3  53+3  61+3  \n2  61+3  61+3  66+3  61+3  46+3  46+3  46+3  61+3  \n3   NaN   NaN   NaN   NaN   NaN   NaN   NaN   NaN  \n4  63+3  63+3  66+3  61+3  49+3  49+3  49+3  61+3  \n\n[5 rows x 104 columns]",
      "text/html": "<div>\n<style scoped>\n    .dataframe tbody tr th:only-of-type {\n        vertical-align: middle;\n    }\n\n    .dataframe tbody tr th {\n        vertical-align: top;\n    }\n\n    .dataframe thead th {\n        text-align: right;\n    }\n</style>\n<table border=\"1\" class=\"dataframe\">\n  <thead>\n    <tr style=\"text-align: right;\">\n      <th></th>\n      <th>sofifa_id</th>\n      <th>player_url</th>\n      <th>short_name</th>\n      <th>long_name</th>\n      <th>age</th>\n      <th>dob</th>\n      <th>height_cm</th>\n      <th>weight_kg</th>\n      <th>nationality</th>\n      <th>club</th>\n      <th>...</th>\n      <th>lwb</th>\n      <th>ldm</th>\n      <th>cdm</th>\n      <th>rdm</th>\n      <th>rwb</th>\n      <th>lb</th>\n      <th>lcb</th>\n      <th>cb</th>\n      <th>rcb</th>\n      <th>rb</th>\n    </tr>\n  </thead>\n  <tbody>\n    <tr>\n      <th>0</th>\n      <td>158023</td>\n      <td>https://sofifa.com/player/158023/lionel-messi/...</td>\n      <td>L. Messi</td>\n      <td>Lionel Andrés Messi Cuccittini</td>\n      <td>32</td>\n      <td>1987-06-24</td>\n      <td>170</td>\n      <td>72</td>\n      <td>Argentina</td>\n      <td>FC Barcelona</td>\n      <td>...</td>\n      <td>68+2</td>\n      <td>66+2</td>\n      <td>66+2</td>\n      <td>66+2</td>\n      <td>68+2</td>\n      <td>63+2</td>\n      <td>52+2</td>\n      <td>52+2</td>\n      <td>52+2</td>\n      <td>63+2</td>\n    </tr>\n    <tr>\n      <th>1</th>\n      <td>20801</td>\n      <td>https://sofifa.com/player/20801/c-ronaldo-dos-...</td>\n      <td>Cristiano Ronaldo</td>\n      <td>Cristiano Ronaldo dos Santos Aveiro</td>\n      <td>34</td>\n      <td>1985-02-05</td>\n      <td>187</td>\n      <td>83</td>\n      <td>Portugal</td>\n      <td>Juventus</td>\n      <td>...</td>\n      <td>65+3</td>\n      <td>61+3</td>\n      <td>61+3</td>\n      <td>61+3</td>\n      <td>65+3</td>\n      <td>61+3</td>\n      <td>53+3</td>\n      <td>53+3</td>\n      <td>53+3</td>\n      <td>61+3</td>\n    </tr>\n    <tr>\n      <th>2</th>\n      <td>190871</td>\n      <td>https://sofifa.com/player/190871/neymar-da-sil...</td>\n      <td>Neymar Jr</td>\n      <td>Neymar da Silva Santos Junior</td>\n      <td>27</td>\n      <td>1992-02-05</td>\n      <td>175</td>\n      <td>68</td>\n      <td>Brazil</td>\n      <td>Paris Saint-Germain</td>\n      <td>...</td>\n      <td>66+3</td>\n      <td>61+3</td>\n      <td>61+3</td>\n      <td>61+3</td>\n      <td>66+3</td>\n      <td>61+3</td>\n      <td>46+3</td>\n      <td>46+3</td>\n      <td>46+3</td>\n      <td>61+3</td>\n    </tr>\n    <tr>\n      <th>3</th>\n      <td>200389</td>\n      <td>https://sofifa.com/player/200389/jan-oblak/20/...</td>\n      <td>J. Oblak</td>\n      <td>Jan Oblak</td>\n      <td>26</td>\n      <td>1993-01-07</td>\n      <td>188</td>\n      <td>87</td>\n      <td>Slovenia</td>\n      <td>Atlético Madrid</td>\n      <td>...</td>\n      <td>NaN</td>\n      <td>NaN</td>\n      <td>NaN</td>\n      <td>NaN</td>\n      <td>NaN</td>\n      <td>NaN</td>\n      <td>NaN</td>\n      <td>NaN</td>\n      <td>NaN</td>\n      <td>NaN</td>\n    </tr>\n    <tr>\n      <th>4</th>\n      <td>183277</td>\n      <td>https://sofifa.com/player/183277/eden-hazard/2...</td>\n      <td>E. Hazard</td>\n      <td>Eden Hazard</td>\n      <td>28</td>\n      <td>1991-01-07</td>\n      <td>175</td>\n      <td>74</td>\n      <td>Belgium</td>\n      <td>Real Madrid</td>\n      <td>...</td>\n      <td>66+3</td>\n      <td>63+3</td>\n      <td>63+3</td>\n      <td>63+3</td>\n      <td>66+3</td>\n      <td>61+3</td>\n      <td>49+3</td>\n      <td>49+3</td>\n      <td>49+3</td>\n      <td>61+3</td>\n    </tr>\n  </tbody>\n</table>\n<p>5 rows × 104 columns</p>\n</div>"
     },
     "metadata": {},
     "execution_count": 2
    }
   ],
   "source": [
    "file_path = \"data/data.csv\"\n",
    "\n",
    "csv_file = pd.read_csv(file_path)\n",
    "\n",
    "FIFA_players = pd.DataFrame(csv_file)\n",
    "\n",
    "FIFA_players.head()"
   ]
  },
  {
   "cell_type": "code",
   "execution_count": 4,
   "metadata": {},
   "outputs": [
    {
     "output_type": "execute_result",
     "data": {
      "text/plain": "['sofifa_id',\n 'player_url',\n 'short_name',\n 'long_name',\n 'age',\n 'dob',\n 'height_cm',\n 'weight_kg',\n 'nationality',\n 'club',\n 'overall',\n 'potential',\n 'value_eur',\n 'wage_eur',\n 'player_positions',\n 'preferred_foot',\n 'international_reputation',\n 'weak_foot',\n 'skill_moves',\n 'work_rate',\n 'body_type',\n 'real_face',\n 'release_clause_eur',\n 'player_tags',\n 'team_position',\n 'team_jersey_number',\n 'loaned_from',\n 'joined',\n 'contract_valid_until',\n 'nation_position',\n 'nation_jersey_number',\n 'pace',\n 'shooting',\n 'passing',\n 'dribbling',\n 'defending',\n 'physic',\n 'gk_diving',\n 'gk_handling',\n 'gk_kicking',\n 'gk_reflexes',\n 'gk_speed',\n 'gk_positioning',\n 'player_traits',\n 'attacking_crossing',\n 'attacking_finishing',\n 'attacking_heading_accuracy',\n 'attacking_short_passing',\n 'attacking_volleys',\n 'skill_dribbling',\n 'skill_curve',\n 'skill_fk_accuracy',\n 'skill_long_passing',\n 'skill_ball_control',\n 'movement_acceleration',\n 'movement_sprint_speed',\n 'movement_agility',\n 'movement_reactions',\n 'movement_balance',\n 'power_shot_power',\n 'power_jumping',\n 'power_stamina',\n 'power_strength',\n 'power_long_shots',\n 'mentality_aggression',\n 'mentality_interceptions',\n 'mentality_positioning',\n 'mentality_vision',\n 'mentality_penalties',\n 'mentality_composure',\n 'defending_marking',\n 'defending_standing_tackle',\n 'defending_sliding_tackle',\n 'goalkeeping_diving',\n 'goalkeeping_handling',\n 'goalkeeping_kicking',\n 'goalkeeping_positioning',\n 'goalkeeping_reflexes',\n 'ls',\n 'st',\n 'rs',\n 'lw',\n 'lf',\n 'cf',\n 'rf',\n 'rw',\n 'lam',\n 'cam',\n 'ram',\n 'lm',\n 'lcm',\n 'cm',\n 'rcm',\n 'rm',\n 'lwb',\n 'ldm',\n 'cdm',\n 'rdm',\n 'rwb',\n 'lb',\n 'lcb',\n 'cb',\n 'rcb',\n 'rb']"
     },
     "metadata": {},
     "execution_count": 4
    }
   ],
   "source": [
    "# Print list of all column names\n",
    "FIFA_players.columns.values.tolist()"
   ]
  },
  {
   "cell_type": "code",
   "execution_count": 5,
   "metadata": {},
   "outputs": [
    {
     "output_type": "execute_result",
     "data": {
      "text/plain": "   sofifa_id         short_name  age nationality  overall  \\\n0     158023           L. Messi   32   Argentina       94   \n1      20801  Cristiano Ronaldo   34    Portugal       93   \n2     190871          Neymar Jr   27      Brazil       92   \n3     200389           J. Oblak   26    Slovenia       91   \n4     183277          E. Hazard   28     Belgium       91   \n\n                  club  value_eur  wage_eur preferred_foot team_position  \\\n0         FC Barcelona   95500000    565000           Left            RW   \n1             Juventus   58500000    405000          Right            LW   \n2  Paris Saint-Germain  105500000    290000          Right           CAM   \n3      Atlético Madrid   77500000    125000          Right            GK   \n4          Real Madrid   90000000    470000          Right            LW   \n\n   height_cm  weight_kg  \n0        170         72  \n1        187         83  \n2        175         68  \n3        188         87  \n4        175         74  ",
      "text/html": "<div>\n<style scoped>\n    .dataframe tbody tr th:only-of-type {\n        vertical-align: middle;\n    }\n\n    .dataframe tbody tr th {\n        vertical-align: top;\n    }\n\n    .dataframe thead th {\n        text-align: right;\n    }\n</style>\n<table border=\"1\" class=\"dataframe\">\n  <thead>\n    <tr style=\"text-align: right;\">\n      <th></th>\n      <th>sofifa_id</th>\n      <th>short_name</th>\n      <th>age</th>\n      <th>nationality</th>\n      <th>overall</th>\n      <th>club</th>\n      <th>value_eur</th>\n      <th>wage_eur</th>\n      <th>preferred_foot</th>\n      <th>team_position</th>\n      <th>height_cm</th>\n      <th>weight_kg</th>\n    </tr>\n  </thead>\n  <tbody>\n    <tr>\n      <th>0</th>\n      <td>158023</td>\n      <td>L. Messi</td>\n      <td>32</td>\n      <td>Argentina</td>\n      <td>94</td>\n      <td>FC Barcelona</td>\n      <td>95500000</td>\n      <td>565000</td>\n      <td>Left</td>\n      <td>RW</td>\n      <td>170</td>\n      <td>72</td>\n    </tr>\n    <tr>\n      <th>1</th>\n      <td>20801</td>\n      <td>Cristiano Ronaldo</td>\n      <td>34</td>\n      <td>Portugal</td>\n      <td>93</td>\n      <td>Juventus</td>\n      <td>58500000</td>\n      <td>405000</td>\n      <td>Right</td>\n      <td>LW</td>\n      <td>187</td>\n      <td>83</td>\n    </tr>\n    <tr>\n      <th>2</th>\n      <td>190871</td>\n      <td>Neymar Jr</td>\n      <td>27</td>\n      <td>Brazil</td>\n      <td>92</td>\n      <td>Paris Saint-Germain</td>\n      <td>105500000</td>\n      <td>290000</td>\n      <td>Right</td>\n      <td>CAM</td>\n      <td>175</td>\n      <td>68</td>\n    </tr>\n    <tr>\n      <th>3</th>\n      <td>200389</td>\n      <td>J. Oblak</td>\n      <td>26</td>\n      <td>Slovenia</td>\n      <td>91</td>\n      <td>Atlético Madrid</td>\n      <td>77500000</td>\n      <td>125000</td>\n      <td>Right</td>\n      <td>GK</td>\n      <td>188</td>\n      <td>87</td>\n    </tr>\n    <tr>\n      <th>4</th>\n      <td>183277</td>\n      <td>E. Hazard</td>\n      <td>28</td>\n      <td>Belgium</td>\n      <td>91</td>\n      <td>Real Madrid</td>\n      <td>90000000</td>\n      <td>470000</td>\n      <td>Right</td>\n      <td>LW</td>\n      <td>175</td>\n      <td>74</td>\n    </tr>\n  </tbody>\n</table>\n</div>"
     },
     "metadata": {},
     "execution_count": 5
    }
   ],
   "source": [
    "# Select relevant columns\n",
    "general_info = FIFA_players.loc[0:499, [\"sofifa_id\", \"short_name\", \"age\", \"nationality\", \n",
    "                                        \"overall\", \"club\", \"value_eur\", \"wage_eur\", \n",
    "                                        \"preferred_foot\", \"team_position\", \n",
    "                                        \"height_cm\", \"weight_kg\"]]\n",
    "\n",
    "general_info.head()"
   ]
  },
  {
   "cell_type": "code",
   "execution_count": 6,
   "metadata": {},
   "outputs": [
    {
     "output_type": "execute_result",
     "data": {
      "text/plain": "   sofifa_id         short_name  age nationality  overall  \\\n0     158023           L. Messi   32   Argentina       94   \n1      20801  Cristiano Ronaldo   34    Portugal       93   \n2     190871          Neymar Jr   27      Brazil       92   \n3     200389           J. Oblak   26    Slovenia       91   \n4     183277          E. Hazard   28     Belgium       91   \n\n                  club  value_eur  wage_eur preferred_foot team_position  \\\n0         FC Barcelona   95500000    565000           Left            RW   \n1             Juventus   58500000    405000          Right            LW   \n2  Paris Saint-Germain  105500000    290000          Right           CAM   \n3      Atlético Madrid   77500000    125000          Right            GK   \n4          Real Madrid   90000000    470000          Right            LW   \n\n   height_cm  weight_kg  height_in  weight_lbs    bmi  \n0        170         72       66.9       158.7  24.91  \n1        187         83       73.6       183.0  23.74  \n2        175         68       68.9       149.9  22.20  \n3        188         87       74.0       191.8  24.62  \n4        175         74       68.9       163.1  24.16  ",
      "text/html": "<div>\n<style scoped>\n    .dataframe tbody tr th:only-of-type {\n        vertical-align: middle;\n    }\n\n    .dataframe tbody tr th {\n        vertical-align: top;\n    }\n\n    .dataframe thead th {\n        text-align: right;\n    }\n</style>\n<table border=\"1\" class=\"dataframe\">\n  <thead>\n    <tr style=\"text-align: right;\">\n      <th></th>\n      <th>sofifa_id</th>\n      <th>short_name</th>\n      <th>age</th>\n      <th>nationality</th>\n      <th>overall</th>\n      <th>club</th>\n      <th>value_eur</th>\n      <th>wage_eur</th>\n      <th>preferred_foot</th>\n      <th>team_position</th>\n      <th>height_cm</th>\n      <th>weight_kg</th>\n      <th>height_in</th>\n      <th>weight_lbs</th>\n      <th>bmi</th>\n    </tr>\n  </thead>\n  <tbody>\n    <tr>\n      <th>0</th>\n      <td>158023</td>\n      <td>L. Messi</td>\n      <td>32</td>\n      <td>Argentina</td>\n      <td>94</td>\n      <td>FC Barcelona</td>\n      <td>95500000</td>\n      <td>565000</td>\n      <td>Left</td>\n      <td>RW</td>\n      <td>170</td>\n      <td>72</td>\n      <td>66.9</td>\n      <td>158.7</td>\n      <td>24.91</td>\n    </tr>\n    <tr>\n      <th>1</th>\n      <td>20801</td>\n      <td>Cristiano Ronaldo</td>\n      <td>34</td>\n      <td>Portugal</td>\n      <td>93</td>\n      <td>Juventus</td>\n      <td>58500000</td>\n      <td>405000</td>\n      <td>Right</td>\n      <td>LW</td>\n      <td>187</td>\n      <td>83</td>\n      <td>73.6</td>\n      <td>183.0</td>\n      <td>23.74</td>\n    </tr>\n    <tr>\n      <th>2</th>\n      <td>190871</td>\n      <td>Neymar Jr</td>\n      <td>27</td>\n      <td>Brazil</td>\n      <td>92</td>\n      <td>Paris Saint-Germain</td>\n      <td>105500000</td>\n      <td>290000</td>\n      <td>Right</td>\n      <td>CAM</td>\n      <td>175</td>\n      <td>68</td>\n      <td>68.9</td>\n      <td>149.9</td>\n      <td>22.20</td>\n    </tr>\n    <tr>\n      <th>3</th>\n      <td>200389</td>\n      <td>J. Oblak</td>\n      <td>26</td>\n      <td>Slovenia</td>\n      <td>91</td>\n      <td>Atlético Madrid</td>\n      <td>77500000</td>\n      <td>125000</td>\n      <td>Right</td>\n      <td>GK</td>\n      <td>188</td>\n      <td>87</td>\n      <td>74.0</td>\n      <td>191.8</td>\n      <td>24.62</td>\n    </tr>\n    <tr>\n      <th>4</th>\n      <td>183277</td>\n      <td>E. Hazard</td>\n      <td>28</td>\n      <td>Belgium</td>\n      <td>91</td>\n      <td>Real Madrid</td>\n      <td>90000000</td>\n      <td>470000</td>\n      <td>Right</td>\n      <td>LW</td>\n      <td>175</td>\n      <td>74</td>\n      <td>68.9</td>\n      <td>163.1</td>\n      <td>24.16</td>\n    </tr>\n  </tbody>\n</table>\n</div>"
     },
     "metadata": {},
     "execution_count": 6
    }
   ],
   "source": [
    "# Convert height to inches and weight to lbs, add new column\n",
    "general_info[\"height_in\"] = round(general_info[\"height_cm\"] * 0.393701, 1)\n",
    "general_info[\"weight_lbs\"] = round(general_info[\"weight_kg\"] * 2.20462, 1)\n",
    "\n",
    "# Add a column for calculated BMI\n",
    "general_info[\"bmi\"] = round(general_info[\"weight_kg\"] / (general_info[\"height_cm\"] / 100) ** 2, 2)\n",
    "\n",
    "general_info.head()"
   ]
  },
  {
   "cell_type": "code",
   "execution_count": 7,
   "metadata": {},
   "outputs": [
    {
     "output_type": "execute_result",
     "data": {
      "text/plain": "Index(['sofifa_id', 'short_name', 'age', 'nationality', 'overall', 'club',\n       'value_eur', 'wage_eur', 'preferred_foot', 'team_position', 'height_cm',\n       'weight_kg', 'height_in', 'weight_lbs', 'bmi'],\n      dtype='object')"
     },
     "metadata": {},
     "execution_count": 7
    }
   ],
   "source": [
    "general_info.columns"
   ]
  },
  {
   "cell_type": "code",
   "execution_count": 9,
   "metadata": {},
   "outputs": [],
   "source": [
    "top_players = general_info.to_csv(\"data/top_players.csv\", index=False)"
   ]
  },
  {
   "cell_type": "code",
   "execution_count": null,
   "metadata": {},
   "outputs": [],
   "source": []
  }
 ],
 "metadata": {
  "kernelspec": {
   "display_name": "Python 3",
   "language": "python",
   "name": "python3"
  },
  "language_info": {
   "codemirror_mode": {
    "name": "ipython",
    "version": 3
   },
   "file_extension": ".py",
   "mimetype": "text/x-python",
   "name": "python",
   "nbconvert_exporter": "python",
   "pygments_lexer": "ipython3",
   "version": "3.7.6-final"
  }
 },
 "nbformat": 4,
 "nbformat_minor": 4
}